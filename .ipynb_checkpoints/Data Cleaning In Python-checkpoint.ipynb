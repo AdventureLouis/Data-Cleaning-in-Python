{
 "cells": [
  {
   "cell_type": "code",
   "execution_count": 1,
   "id": "dcf6e6f3",
   "metadata": {},
   "outputs": [],
   "source": [
    "import pandas as pd\n"
   ]
  },
  {
   "cell_type": "code",
   "execution_count": 18,
   "id": "b4584d26",
   "metadata": {},
   "outputs": [],
   "source": [
    "#Load dataset\n",
    "df=pd.read_csv('open-rice.csv')"
   ]
  },
  {
   "cell_type": "markdown",
   "id": "550a5eae",
   "metadata": {},
   "source": [
    "### Explore Dataset"
   ]
  },
  {
   "cell_type": "code",
   "execution_count": 19,
   "id": "3eb2b543",
   "metadata": {},
   "outputs": [
    {
     "data": {
      "text/html": [
       "<div>\n",
       "<style scoped>\n",
       "    .dataframe tbody tr th:only-of-type {\n",
       "        vertical-align: middle;\n",
       "    }\n",
       "\n",
       "    .dataframe tbody tr th {\n",
       "        vertical-align: top;\n",
       "    }\n",
       "\n",
       "    .dataframe thead th {\n",
       "        text-align: right;\n",
       "    }\n",
       "</style>\n",
       "<table border=\"1\" class=\"dataframe\">\n",
       "  <thead>\n",
       "    <tr style=\"text-align: right;\">\n",
       "      <th></th>\n",
       "      <th>address</th>\n",
       "      <th>bookmarks</th>\n",
       "      <th>dislikes</th>\n",
       "      <th>food_type</th>\n",
       "      <th>likes</th>\n",
       "      <th>name</th>\n",
       "      <th>number_of_reviews</th>\n",
       "      <th>price_range</th>\n",
       "    </tr>\n",
       "  </thead>\n",
       "  <tbody>\n",
       "    <tr>\n",
       "      <th>0</th>\n",
       "      <td>Shop J-K., 200 Hollywood Road,</td>\n",
       "      <td>5838</td>\n",
       "      <td>6</td>\n",
       "      <td>Hong Kong Style</td>\n",
       "      <td>78</td>\n",
       "      <td>For Kee Restaurant 科記咖啡餐室</td>\n",
       "      <td>(133 Reviews)</td>\n",
       "      <td>Below $50</td>\n",
       "    </tr>\n",
       "    <tr>\n",
       "      <th>1</th>\n",
       "      <td>G/F, 108 Hollywood Road,</td>\n",
       "      <td>3492</td>\n",
       "      <td>2</td>\n",
       "      <td>International</td>\n",
       "      <td>20</td>\n",
       "      <td>Blue · Butcher &amp; Meat Specialist</td>\n",
       "      <td>(30 Reviews)</td>\n",
       "      <td>$201-400</td>\n",
       "    </tr>\n",
       "    <tr>\n",
       "      <th>2</th>\n",
       "      <td>G/F, 206 Hollywood Road,</td>\n",
       "      <td>5517</td>\n",
       "      <td>5</td>\n",
       "      <td>Thai</td>\n",
       "      <td>31</td>\n",
       "      <td>Chachawan</td>\n",
       "      <td>(43 Reviews)</td>\n",
       "      <td>$201-400</td>\n",
       "    </tr>\n",
       "    <tr>\n",
       "      <th>3</th>\n",
       "      <td>Shop 3018, 3/F, Shun Tak Centre, 168-200 Conna...</td>\n",
       "      <td>1173</td>\n",
       "      <td>1</td>\n",
       "      <td>Hong Kong Style</td>\n",
       "      <td>23</td>\n",
       "      <td>Capital Café 華星冰室</td>\n",
       "      <td>(39 Reviews)</td>\n",
       "      <td>Below $50</td>\n",
       "    </tr>\n",
       "    <tr>\n",
       "      <th>4</th>\n",
       "      <td>G/F, 38 Queens Road West,</td>\n",
       "      <td>1064</td>\n",
       "      <td>1</td>\n",
       "      <td>Indian</td>\n",
       "      <td>50</td>\n",
       "      <td>Namaste Kitchen 滋味廚房</td>\n",
       "      <td>(57 Reviews)</td>\n",
       "      <td>$51-100</td>\n",
       "    </tr>\n",
       "    <tr>\n",
       "      <th>5</th>\n",
       "      <td>Shop 1, G/F, King Ho Building, 41-49 Aberdeen ...</td>\n",
       "      <td>3300</td>\n",
       "      <td>0</td>\n",
       "      <td>Vietnamese</td>\n",
       "      <td>21</td>\n",
       "      <td>Bun Cha Vietnamese</td>\n",
       "      <td>(33 Reviews)</td>\n",
       "      <td>$101-200</td>\n",
       "    </tr>\n",
       "    <tr>\n",
       "      <th>6</th>\n",
       "      <td>G/F, 12 Tung Street,</td>\n",
       "      <td>5101</td>\n",
       "      <td>3</td>\n",
       "      <td>Western</td>\n",
       "      <td>14</td>\n",
       "      <td>Halfway Coffee 半路咖啡</td>\n",
       "      <td>(25 Reviews)</td>\n",
       "      <td>Below $50</td>\n",
       "    </tr>\n",
       "    <tr>\n",
       "      <th>7</th>\n",
       "      <td>G/F, Sea View Commercial Building, 21-24 Conna...</td>\n",
       "      <td>591</td>\n",
       "      <td>3</td>\n",
       "      <td>Guangdong</td>\n",
       "      <td>30</td>\n",
       "      <td>Fung Shing Restaurant 鳳城酒家</td>\n",
       "      <td>(37 Reviews)</td>\n",
       "      <td>$101-200</td>\n",
       "    </tr>\n",
       "    <tr>\n",
       "      <th>8</th>\n",
       "      <td>Shop 1B, G/F, Cheungs Building, 1 Wing Lok Str...</td>\n",
       "      <td>1224</td>\n",
       "      <td>0</td>\n",
       "      <td>Western</td>\n",
       "      <td>28</td>\n",
       "      <td>Veggi Monster</td>\n",
       "      <td>(32 Reviews)</td>\n",
       "      <td>$51-100</td>\n",
       "    </tr>\n",
       "    <tr>\n",
       "      <th>9</th>\n",
       "      <td>G/F, 8 Hillier Street,</td>\n",
       "      <td>1452</td>\n",
       "      <td>0</td>\n",
       "      <td>Japanese</td>\n",
       "      <td>28</td>\n",
       "      <td>Pokéworld</td>\n",
       "      <td>(37 Reviews)</td>\n",
       "      <td>$51-100</td>\n",
       "    </tr>\n",
       "  </tbody>\n",
       "</table>\n",
       "</div>"
      ],
      "text/plain": [
       "                                             address  bookmarks  dislikes  \\\n",
       "0                     Shop J-K., 200 Hollywood Road,       5838         6   \n",
       "1                           G/F, 108 Hollywood Road,       3492         2   \n",
       "2                           G/F, 206 Hollywood Road,       5517         5   \n",
       "3  Shop 3018, 3/F, Shun Tak Centre, 168-200 Conna...       1173         1   \n",
       "4                          G/F, 38 Queens Road West,       1064         1   \n",
       "5  Shop 1, G/F, King Ho Building, 41-49 Aberdeen ...       3300         0   \n",
       "6                               G/F, 12 Tung Street,       5101         3   \n",
       "7  G/F, Sea View Commercial Building, 21-24 Conna...        591         3   \n",
       "8  Shop 1B, G/F, Cheungs Building, 1 Wing Lok Str...       1224         0   \n",
       "9                             G/F, 8 Hillier Street,       1452         0   \n",
       "\n",
       "         food_type  likes                              name number_of_reviews  \\\n",
       "0  Hong Kong Style     78         For Kee Restaurant 科記咖啡餐室     (133 Reviews)   \n",
       "1    International     20  Blue · Butcher & Meat Specialist      (30 Reviews)   \n",
       "2             Thai     31                         Chachawan      (43 Reviews)   \n",
       "3  Hong Kong Style     23                 Capital Café 華星冰室      (39 Reviews)   \n",
       "4           Indian     50              Namaste Kitchen 滋味廚房      (57 Reviews)   \n",
       "5       Vietnamese     21                Bun Cha Vietnamese      (33 Reviews)   \n",
       "6          Western     14               Halfway Coffee 半路咖啡      (25 Reviews)   \n",
       "7        Guangdong     30        Fung Shing Restaurant 鳳城酒家      (37 Reviews)   \n",
       "8          Western     28                     Veggi Monster      (32 Reviews)   \n",
       "9         Japanese     28                         Pokéworld      (37 Reviews)   \n",
       "\n",
       "  price_range  \n",
       "0   Below $50  \n",
       "1    $201-400  \n",
       "2    $201-400  \n",
       "3   Below $50  \n",
       "4     $51-100  \n",
       "5    $101-200  \n",
       "6   Below $50  \n",
       "7    $101-200  \n",
       "8     $51-100  \n",
       "9     $51-100  "
      ]
     },
     "execution_count": 19,
     "metadata": {},
     "output_type": "execute_result"
    }
   ],
   "source": [
    "\n",
    "df.head(10)"
   ]
  },
  {
   "cell_type": "code",
   "execution_count": 20,
   "id": "b54d99f7",
   "metadata": {},
   "outputs": [
    {
     "data": {
      "text/plain": [
       "Index(['address', 'bookmarks', 'dislikes', 'food_type', 'likes', 'name',\n",
       "       'number_of_reviews', 'price_range'],\n",
       "      dtype='object')"
      ]
     },
     "execution_count": 20,
     "metadata": {},
     "output_type": "execute_result"
    }
   ],
   "source": [
    "df.columns"
   ]
  },
  {
   "cell_type": "code",
   "execution_count": 21,
   "id": "cd867964",
   "metadata": {},
   "outputs": [
    {
     "name": "stdout",
     "output_type": "stream",
     "text": [
      "<class 'pandas.core.frame.DataFrame'>\n",
      "RangeIndex: 26165 entries, 0 to 26164\n",
      "Data columns (total 8 columns):\n",
      " #   Column             Non-Null Count  Dtype \n",
      "---  ------             --------------  ----- \n",
      " 0   address            26165 non-null  object\n",
      " 1   bookmarks          26165 non-null  int64 \n",
      " 2   dislikes           26165 non-null  int64 \n",
      " 3   food_type          26165 non-null  object\n",
      " 4   likes              26165 non-null  int64 \n",
      " 5   name               26165 non-null  object\n",
      " 6   number_of_reviews  26165 non-null  object\n",
      " 7   price_range        26165 non-null  object\n",
      "dtypes: int64(3), object(5)\n",
      "memory usage: 1.6+ MB\n"
     ]
    }
   ],
   "source": [
    "df.info()"
   ]
  },
  {
   "cell_type": "markdown",
   "id": "1506588e",
   "metadata": {},
   "source": [
    "### 1.Identify missing values"
   ]
  },
  {
   "cell_type": "code",
   "execution_count": 22,
   "id": "71a02e39",
   "metadata": {},
   "outputs": [
    {
     "data": {
      "text/plain": [
       "address              False\n",
       "bookmarks            False\n",
       "dislikes             False\n",
       "food_type            False\n",
       "likes                False\n",
       "name                 False\n",
       "number_of_reviews    False\n",
       "price_range          False\n",
       "dtype: bool"
      ]
     },
     "execution_count": 22,
     "metadata": {},
     "output_type": "execute_result"
    }
   ],
   "source": [
    "df.isnull().any()"
   ]
  },
  {
   "cell_type": "raw",
   "id": "184c5044",
   "metadata": {},
   "source": [
    "The above command checks if missing values exist in the dataset.\n",
    "it’s always good to check the number of missing values in a dataset that you might want to use the dataset-building models. When trying to build a model, any field with around 90% missing data should be excluded from the dataset as such field won’t be making any contributions to the model accuracy, so with the above command, if you discover that a particular area has missing values you can dig further to know the proportion of missing values as this will help you decide whether to keep such field or not."
   ]
  },
  {
   "cell_type": "markdown",
   "id": "b5c2e7d5",
   "metadata": {},
   "source": [
    "### 2.Remove Duplicates"
   ]
  },
  {
   "cell_type": "code",
   "execution_count": 23,
   "id": "6171d389",
   "metadata": {},
   "outputs": [
    {
     "data": {
      "text/plain": [
       "26165"
      ]
     },
     "execution_count": 23,
     "metadata": {},
     "output_type": "execute_result"
    }
   ],
   "source": [
    "# Get the length of the dataset\n",
    "len(df)"
   ]
  },
  {
   "cell_type": "code",
   "execution_count": 24,
   "id": "9d6ba24c",
   "metadata": {},
   "outputs": [
    {
     "data": {
      "text/html": [
       "<div>\n",
       "<style scoped>\n",
       "    .dataframe tbody tr th:only-of-type {\n",
       "        vertical-align: middle;\n",
       "    }\n",
       "\n",
       "    .dataframe tbody tr th {\n",
       "        vertical-align: top;\n",
       "    }\n",
       "\n",
       "    .dataframe thead th {\n",
       "        text-align: right;\n",
       "    }\n",
       "</style>\n",
       "<table border=\"1\" class=\"dataframe\">\n",
       "  <thead>\n",
       "    <tr style=\"text-align: right;\">\n",
       "      <th></th>\n",
       "      <th>address</th>\n",
       "      <th>bookmarks</th>\n",
       "      <th>dislikes</th>\n",
       "      <th>food_type</th>\n",
       "      <th>likes</th>\n",
       "      <th>name</th>\n",
       "      <th>number_of_reviews</th>\n",
       "      <th>price_range</th>\n",
       "    </tr>\n",
       "  </thead>\n",
       "  <tbody>\n",
       "    <tr>\n",
       "      <th>0</th>\n",
       "      <td>Shop J-K., 200 Hollywood Road,</td>\n",
       "      <td>5838</td>\n",
       "      <td>6</td>\n",
       "      <td>Hong Kong Style</td>\n",
       "      <td>78</td>\n",
       "      <td>For Kee Restaurant 科記咖啡餐室</td>\n",
       "      <td>(133 Reviews)</td>\n",
       "      <td>Below $50</td>\n",
       "    </tr>\n",
       "    <tr>\n",
       "      <th>1</th>\n",
       "      <td>G/F, 108 Hollywood Road,</td>\n",
       "      <td>3492</td>\n",
       "      <td>2</td>\n",
       "      <td>International</td>\n",
       "      <td>20</td>\n",
       "      <td>Blue · Butcher &amp; Meat Specialist</td>\n",
       "      <td>(30 Reviews)</td>\n",
       "      <td>$201-400</td>\n",
       "    </tr>\n",
       "    <tr>\n",
       "      <th>2</th>\n",
       "      <td>G/F, 206 Hollywood Road,</td>\n",
       "      <td>5517</td>\n",
       "      <td>5</td>\n",
       "      <td>Thai</td>\n",
       "      <td>31</td>\n",
       "      <td>Chachawan</td>\n",
       "      <td>(43 Reviews)</td>\n",
       "      <td>$201-400</td>\n",
       "    </tr>\n",
       "    <tr>\n",
       "      <th>3</th>\n",
       "      <td>Shop 3018, 3/F, Shun Tak Centre, 168-200 Conna...</td>\n",
       "      <td>1173</td>\n",
       "      <td>1</td>\n",
       "      <td>Hong Kong Style</td>\n",
       "      <td>23</td>\n",
       "      <td>Capital Café 華星冰室</td>\n",
       "      <td>(39 Reviews)</td>\n",
       "      <td>Below $50</td>\n",
       "    </tr>\n",
       "    <tr>\n",
       "      <th>4</th>\n",
       "      <td>G/F, 38 Queens Road West,</td>\n",
       "      <td>1064</td>\n",
       "      <td>1</td>\n",
       "      <td>Indian</td>\n",
       "      <td>50</td>\n",
       "      <td>Namaste Kitchen 滋味廚房</td>\n",
       "      <td>(57 Reviews)</td>\n",
       "      <td>$51-100</td>\n",
       "    </tr>\n",
       "    <tr>\n",
       "      <th>...</th>\n",
       "      <td>...</td>\n",
       "      <td>...</td>\n",
       "      <td>...</td>\n",
       "      <td>...</td>\n",
       "      <td>...</td>\n",
       "      <td>...</td>\n",
       "      <td>...</td>\n",
       "      <td>...</td>\n",
       "    </tr>\n",
       "    <tr>\n",
       "      <th>26155</th>\n",
       "      <td>G/F, Po Chi Court, 15 Ship Street,</td>\n",
       "      <td>1207</td>\n",
       "      <td>30</td>\n",
       "      <td>International</td>\n",
       "      <td>71</td>\n",
       "      <td>Double Tree</td>\n",
       "      <td>(142 Reviews)</td>\n",
       "      <td>$101-200</td>\n",
       "    </tr>\n",
       "    <tr>\n",
       "      <th>26158</th>\n",
       "      <td>Shop 3-5, 2/F, Nan Fung Tower, 173 Des Voeux R...</td>\n",
       "      <td>2217</td>\n",
       "      <td>4</td>\n",
       "      <td>International</td>\n",
       "      <td>32</td>\n",
       "      <td>Urban Park 城市匯</td>\n",
       "      <td>(52 Reviews)</td>\n",
       "      <td>$201-400</td>\n",
       "    </tr>\n",
       "    <tr>\n",
       "      <th>26159</th>\n",
       "      <td>2/F, Hotel Pennington, 13-15 Pennington Street,</td>\n",
       "      <td>3703</td>\n",
       "      <td>1</td>\n",
       "      <td>International</td>\n",
       "      <td>45</td>\n",
       "      <td>Wheatfield Kitchen 麥田廚房</td>\n",
       "      <td>(57 Reviews)</td>\n",
       "      <td>$51-100</td>\n",
       "    </tr>\n",
       "    <tr>\n",
       "      <th>26160</th>\n",
       "      <td>Rooftop, Courtyard By Marriott Hong Kong Sha T...</td>\n",
       "      <td>2770</td>\n",
       "      <td>0</td>\n",
       "      <td>International</td>\n",
       "      <td>33</td>\n",
       "      <td>LEVELthirty Lounge &amp; Bar</td>\n",
       "      <td>(44 Reviews)</td>\n",
       "      <td>$101-200</td>\n",
       "    </tr>\n",
       "    <tr>\n",
       "      <th>26164</th>\n",
       "      <td>9/F, Hung To Centre, 94-96 How Ming Street,</td>\n",
       "      <td>1736</td>\n",
       "      <td>1</td>\n",
       "      <td>International</td>\n",
       "      <td>33</td>\n",
       "      <td>Centre de Vin</td>\n",
       "      <td>(53 Reviews)</td>\n",
       "      <td>$201-400</td>\n",
       "    </tr>\n",
       "  </tbody>\n",
       "</table>\n",
       "<p>21299 rows × 8 columns</p>\n",
       "</div>"
      ],
      "text/plain": [
       "                                                 address  bookmarks  dislikes  \\\n",
       "0                         Shop J-K., 200 Hollywood Road,       5838         6   \n",
       "1                               G/F, 108 Hollywood Road,       3492         2   \n",
       "2                               G/F, 206 Hollywood Road,       5517         5   \n",
       "3      Shop 3018, 3/F, Shun Tak Centre, 168-200 Conna...       1173         1   \n",
       "4                              G/F, 38 Queens Road West,       1064         1   \n",
       "...                                                  ...        ...       ...   \n",
       "26155                 G/F, Po Chi Court, 15 Ship Street,       1207        30   \n",
       "26158  Shop 3-5, 2/F, Nan Fung Tower, 173 Des Voeux R...       2217         4   \n",
       "26159    2/F, Hotel Pennington, 13-15 Pennington Street,       3703         1   \n",
       "26160  Rooftop, Courtyard By Marriott Hong Kong Sha T...       2770         0   \n",
       "26164        9/F, Hung To Centre, 94-96 How Ming Street,       1736         1   \n",
       "\n",
       "             food_type  likes                              name  \\\n",
       "0      Hong Kong Style     78         For Kee Restaurant 科記咖啡餐室   \n",
       "1        International     20  Blue · Butcher & Meat Specialist   \n",
       "2                 Thai     31                         Chachawan   \n",
       "3      Hong Kong Style     23                 Capital Café 華星冰室   \n",
       "4               Indian     50              Namaste Kitchen 滋味廚房   \n",
       "...                ...    ...                               ...   \n",
       "26155    International     71                       Double Tree   \n",
       "26158    International     32                    Urban Park 城市匯   \n",
       "26159    International     45           Wheatfield Kitchen 麥田廚房   \n",
       "26160    International     33          LEVELthirty Lounge & Bar   \n",
       "26164    International     33                     Centre de Vin   \n",
       "\n",
       "      number_of_reviews price_range  \n",
       "0         (133 Reviews)   Below $50  \n",
       "1          (30 Reviews)    $201-400  \n",
       "2          (43 Reviews)    $201-400  \n",
       "3          (39 Reviews)   Below $50  \n",
       "4          (57 Reviews)     $51-100  \n",
       "...                 ...         ...  \n",
       "26155     (142 Reviews)    $101-200  \n",
       "26158      (52 Reviews)    $201-400  \n",
       "26159      (57 Reviews)     $51-100  \n",
       "26160      (44 Reviews)    $101-200  \n",
       "26164      (53 Reviews)    $201-400  \n",
       "\n",
       "[21299 rows x 8 columns]"
      ]
     },
     "execution_count": 24,
     "metadata": {},
     "output_type": "execute_result"
    }
   ],
   "source": [
    "df.drop_duplicates()"
   ]
  },
  {
   "cell_type": "code",
   "execution_count": 25,
   "id": "f8a4e089",
   "metadata": {},
   "outputs": [],
   "source": [
    "df1=df.drop_duplicates()"
   ]
  },
  {
   "cell_type": "code",
   "execution_count": 26,
   "id": "3b83ff3c",
   "metadata": {},
   "outputs": [],
   "source": [
    "df=len(df)"
   ]
  },
  {
   "cell_type": "code",
   "execution_count": 27,
   "id": "f3475011",
   "metadata": {},
   "outputs": [
    {
     "data": {
      "text/plain": [
       "26165"
      ]
     },
     "execution_count": 27,
     "metadata": {},
     "output_type": "execute_result"
    }
   ],
   "source": [
    "df"
   ]
  },
  {
   "cell_type": "code",
   "execution_count": 29,
   "id": "cbc66379",
   "metadata": {
    "scrolled": true
   },
   "outputs": [],
   "source": [
    "df1=len(df1)"
   ]
  },
  {
   "cell_type": "code",
   "execution_count": 30,
   "id": "3e436287",
   "metadata": {},
   "outputs": [
    {
     "name": "stdout",
     "output_type": "stream",
     "text": [
      "4866\n"
     ]
    }
   ],
   "source": [
    "# number of duplicates\n",
    "Number_of_duplicates=df-df1\n",
    "print(Number_of_duplicates)"
   ]
  },
  {
   "cell_type": "markdown",
   "id": "b543ae4f",
   "metadata": {},
   "source": [
    "### 3.Remove unwanted leading and trailing characters"
   ]
  },
  {
   "cell_type": "markdown",
   "id": "14888fcd",
   "metadata": {},
   "source": [
    "It was observed that the address field of the dataset has trailing commas, \n",
    "Let's check it out below:"
   ]
  },
  {
   "cell_type": "code",
   "execution_count": 12,
   "id": "9771c74d",
   "metadata": {
    "scrolled": true
   },
   "outputs": [
    {
     "data": {
      "text/plain": [
       "0                           Shop J-K., 200 Hollywood Road,\n",
       "1                                 G/F, 108 Hollywood Road,\n",
       "2                                 G/F, 206 Hollywood Road,\n",
       "3        Shop 3018, 3/F, Shun Tak Centre, 168-200 Conna...\n",
       "4                                G/F, 38 Queens Road West,\n",
       "                               ...                        \n",
       "26160    Rooftop, Courtyard By Marriott Hong Kong Sha T...\n",
       "26161                             6/F, Yuen Long Landmark,\n",
       "26162    2-3/F, Chau Hop Shing Building, 2- 8 Chung On ...\n",
       "26163                G/F, 9-13 Fuk Sau Lane, Sai Ying Pun,\n",
       "26164          9/F, Hung To Centre, 94-96 How Ming Street,\n",
       "Name: address, Length: 26165, dtype: object"
      ]
     },
     "execution_count": 12,
     "metadata": {},
     "output_type": "execute_result"
    }
   ],
   "source": [
    "df['address']"
   ]
  },
  {
   "cell_type": "code",
   "execution_count": 13,
   "id": "44ef7741",
   "metadata": {},
   "outputs": [],
   "source": [
    "#The above code snippets will help to remove every comma at the end of each row in the address field.\n",
    "df['address']=df['address'].str.strip(',')"
   ]
  },
  {
   "cell_type": "code",
   "execution_count": 14,
   "id": "35bb3df7",
   "metadata": {},
   "outputs": [
    {
     "data": {
      "text/plain": [
       "0                            Shop J-K., 200 Hollywood Road\n",
       "1                                  G/F, 108 Hollywood Road\n",
       "2                                  G/F, 206 Hollywood Road\n",
       "3        Shop 3018, 3/F, Shun Tak Centre, 168-200 Conna...\n",
       "4                                 G/F, 38 Queens Road West\n",
       "                               ...                        \n",
       "26160    Rooftop, Courtyard By Marriott Hong Kong Sha T...\n",
       "26161                              6/F, Yuen Long Landmark\n",
       "26162    2-3/F, Chau Hop Shing Building, 2- 8 Chung On ...\n",
       "26163                 G/F, 9-13 Fuk Sau Lane, Sai Ying Pun\n",
       "26164           9/F, Hung To Centre, 94-96 How Ming Street\n",
       "Name: address, Length: 26165, dtype: object"
      ]
     },
     "execution_count": 14,
     "metadata": {},
     "output_type": "execute_result"
    }
   ],
   "source": [
    "df['address']"
   ]
  },
  {
   "cell_type": "raw",
   "id": "0ffe2d8b",
   "metadata": {},
   "source": [
    "It was also observed that the number of reviews field has strings and parentheses. However, this field should only contain integer characters.\n",
    "\n",
    "let’s check it out below:"
   ]
  },
  {
   "cell_type": "code",
   "execution_count": 17,
   "id": "f6c61cd9",
   "metadata": {
    "scrolled": true
   },
   "outputs": [
    {
     "data": {
      "text/plain": [
       "0        (133 Reviews)\n",
       "1         (30 Reviews)\n",
       "2         (43 Reviews)\n",
       "3         (39 Reviews)\n",
       "4         (57 Reviews)\n",
       "             ...      \n",
       "26160     (44 Reviews)\n",
       "26161    (113 Reviews)\n",
       "26162    (232 Reviews)\n",
       "26163     (50 Reviews)\n",
       "26164     (53 Reviews)\n",
       "Name: number_of_reviews, Length: 26165, dtype: object"
      ]
     },
     "execution_count": 17,
     "metadata": {},
     "output_type": "execute_result"
    }
   ],
   "source": [
    "df['number_of_reviews']"
   ]
  },
  {
   "cell_type": "code",
   "execution_count": 18,
   "id": "a9d9b494",
   "metadata": {},
   "outputs": [],
   "source": [
    "df['number_of_reviews']=df['number_of_reviews'].str.strip(\"()\")"
   ]
  },
  {
   "cell_type": "code",
   "execution_count": 19,
   "id": "42798c49",
   "metadata": {},
   "outputs": [],
   "source": [
    "import regex as re\n",
    "def new_columns(s):\n",
    "    m=re.search('\\d+',s)\n",
    "    if m:\n",
    "        return m.group()\n",
    "    return s"
   ]
  },
  {
   "cell_type": "code",
   "execution_count": 20,
   "id": "32d5424d",
   "metadata": {},
   "outputs": [],
   "source": [
    "df['number_of_reviews']=df['number_of_reviews'].apply(new_columns)"
   ]
  },
  {
   "cell_type": "code",
   "execution_count": 21,
   "id": "0b9327b9",
   "metadata": {},
   "outputs": [
    {
     "data": {
      "text/html": [
       "<div>\n",
       "<style scoped>\n",
       "    .dataframe tbody tr th:only-of-type {\n",
       "        vertical-align: middle;\n",
       "    }\n",
       "\n",
       "    .dataframe tbody tr th {\n",
       "        vertical-align: top;\n",
       "    }\n",
       "\n",
       "    .dataframe thead th {\n",
       "        text-align: right;\n",
       "    }\n",
       "</style>\n",
       "<table border=\"1\" class=\"dataframe\">\n",
       "  <thead>\n",
       "    <tr style=\"text-align: right;\">\n",
       "      <th></th>\n",
       "      <th>address</th>\n",
       "      <th>bookmarks</th>\n",
       "      <th>dislikes</th>\n",
       "      <th>food_type</th>\n",
       "      <th>likes</th>\n",
       "      <th>name</th>\n",
       "      <th>number_of_reviews</th>\n",
       "      <th>price_range</th>\n",
       "    </tr>\n",
       "  </thead>\n",
       "  <tbody>\n",
       "    <tr>\n",
       "      <th>0</th>\n",
       "      <td>Shop J-K., 200 Hollywood Road</td>\n",
       "      <td>5838</td>\n",
       "      <td>6</td>\n",
       "      <td>Hong Kong Style</td>\n",
       "      <td>78</td>\n",
       "      <td>For Kee Restaurant 科記咖啡餐室</td>\n",
       "      <td>133</td>\n",
       "      <td>Below $50</td>\n",
       "    </tr>\n",
       "    <tr>\n",
       "      <th>1</th>\n",
       "      <td>G/F, 108 Hollywood Road</td>\n",
       "      <td>3492</td>\n",
       "      <td>2</td>\n",
       "      <td>International</td>\n",
       "      <td>20</td>\n",
       "      <td>Blue · Butcher &amp; Meat Specialist</td>\n",
       "      <td>30</td>\n",
       "      <td>$201-400</td>\n",
       "    </tr>\n",
       "    <tr>\n",
       "      <th>2</th>\n",
       "      <td>G/F, 206 Hollywood Road</td>\n",
       "      <td>5517</td>\n",
       "      <td>5</td>\n",
       "      <td>Thai</td>\n",
       "      <td>31</td>\n",
       "      <td>Chachawan</td>\n",
       "      <td>43</td>\n",
       "      <td>$201-400</td>\n",
       "    </tr>\n",
       "    <tr>\n",
       "      <th>3</th>\n",
       "      <td>Shop 3018, 3/F, Shun Tak Centre, 168-200 Conna...</td>\n",
       "      <td>1173</td>\n",
       "      <td>1</td>\n",
       "      <td>Hong Kong Style</td>\n",
       "      <td>23</td>\n",
       "      <td>Capital Café 華星冰室</td>\n",
       "      <td>39</td>\n",
       "      <td>Below $50</td>\n",
       "    </tr>\n",
       "    <tr>\n",
       "      <th>4</th>\n",
       "      <td>G/F, 38 Queens Road West</td>\n",
       "      <td>1064</td>\n",
       "      <td>1</td>\n",
       "      <td>Indian</td>\n",
       "      <td>50</td>\n",
       "      <td>Namaste Kitchen 滋味廚房</td>\n",
       "      <td>57</td>\n",
       "      <td>$51-100</td>\n",
       "    </tr>\n",
       "  </tbody>\n",
       "</table>\n",
       "</div>"
      ],
      "text/plain": [
       "                                             address  bookmarks  dislikes  \\\n",
       "0                      Shop J-K., 200 Hollywood Road       5838         6   \n",
       "1                            G/F, 108 Hollywood Road       3492         2   \n",
       "2                            G/F, 206 Hollywood Road       5517         5   \n",
       "3  Shop 3018, 3/F, Shun Tak Centre, 168-200 Conna...       1173         1   \n",
       "4                           G/F, 38 Queens Road West       1064         1   \n",
       "\n",
       "         food_type  likes                              name number_of_reviews  \\\n",
       "0  Hong Kong Style     78         For Kee Restaurant 科記咖啡餐室               133   \n",
       "1    International     20  Blue · Butcher & Meat Specialist                30   \n",
       "2             Thai     31                         Chachawan                43   \n",
       "3  Hong Kong Style     23                 Capital Café 華星冰室                39   \n",
       "4           Indian     50              Namaste Kitchen 滋味廚房                57   \n",
       "\n",
       "  price_range  \n",
       "0   Below $50  \n",
       "1    $201-400  \n",
       "2    $201-400  \n",
       "3   Below $50  \n",
       "4     $51-100  "
      ]
     },
     "execution_count": 21,
     "metadata": {},
     "output_type": "execute_result"
    }
   ],
   "source": [
    "df.head()"
   ]
  },
  {
   "cell_type": "markdown",
   "id": "0efdeb23",
   "metadata": {},
   "source": [
    "## Conclusion\n",
    "To recap, I implemented data cleaning in pandas using the following three ways:"
   ]
  },
  {
   "cell_type": "raw",
   "id": "39a6ba5e",
   "metadata": {},
   "source": [
    "- Identify missing values\n",
    "\n",
    "- Remove duplicates\n",
    "\n",
    "- Remove unwanted trailing and leading characters.\n"
   ]
  },
  {
   "cell_type": "code",
   "execution_count": null,
   "id": "9f5c582e",
   "metadata": {},
   "outputs": [],
   "source": []
  }
 ],
 "metadata": {
  "kernelspec": {
   "display_name": "Python 3 (ipykernel)",
   "language": "python",
   "name": "python3"
  },
  "language_info": {
   "codemirror_mode": {
    "name": "ipython",
    "version": 3
   },
   "file_extension": ".py",
   "mimetype": "text/x-python",
   "name": "python",
   "nbconvert_exporter": "python",
   "pygments_lexer": "ipython3",
   "version": "3.9.13"
  }
 },
 "nbformat": 4,
 "nbformat_minor": 5
}
